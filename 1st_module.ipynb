{
  "nbformat": 4,
  "nbformat_minor": 0,
  "metadata": {
    "colab": {
      "name": "1st module",
      "provenance": [],
      "collapsed_sections": [],
      "authorship_tag": "ABX9TyNjhhlhnQXEQWJS81SsHG4l",
      "include_colab_link": true
    },
    "kernelspec": {
      "name": "python3",
      "display_name": "Python 3"
    },
    "language_info": {
      "name": "python"
    }
  },
  "cells": [
    {
      "cell_type": "markdown",
      "metadata": {
        "id": "view-in-github",
        "colab_type": "text"
      },
      "source": [
        "<a href=\"https://colab.research.google.com/github/VU21CSEN0100410/DEEPIKA/blob/main/1st_module.ipynb\" target=\"_parent\"><img src=\"https://colab.research.google.com/assets/colab-badge.svg\" alt=\"Open In Colab\"/></a>"
      ]
    },
    {
      "cell_type": "markdown",
      "source": [
        "Accept input from user and store it in variable and print the value"
      ],
      "metadata": {
        "id": "NbH8IMw1d-ws"
      }
    },
    {
      "cell_type": "code",
      "source": [
        "a=300\n",
        "b=200\n",
        "c=int(input())\n",
        "d=int(input())\n",
        "e=a-(b)-(c)-(d)\n",
        "print(e)"
      ],
      "metadata": {
        "colab": {
          "base_uri": "https://localhost:8080/"
        },
        "id": "7hwwNKLYeCGl",
        "outputId": "bd4462e5-4a98-4811-c575-fe6bba187007"
      },
      "execution_count": null,
      "outputs": [
        {
          "output_type": "stream",
          "name": "stdout",
          "text": [
            "100\n",
            "50\n",
            "-50\n"
          ]
        }
      ]
    },
    {
      "cell_type": "markdown",
      "source": [
        "Use of print statements and use of (.format )for printing different data types"
      ],
      "metadata": {
        "id": "cONlgHCJmEAH"
      }
    },
    {
      "cell_type": "code",
      "source": [
        "quantity=5\n",
        "itemno=213\n",
        "price=80\n",
        "myorder=\"i want {} pieces of item {} for {} dollars\"\n",
        "print(myorder.format(quantity,itemno,price))"
      ],
      "metadata": {
        "colab": {
          "base_uri": "https://localhost:8080/"
        },
        "id": "tuvIsnKAmCsh",
        "outputId": "990207b1-a073-4845-8e64-aad341c0b8ac"
      },
      "execution_count": null,
      "outputs": [
        {
          "output_type": "stream",
          "name": "stdout",
          "text": [
            "i want 5 pieces of item 213 for 80 dollars\n"
          ]
        }
      ]
    },
    {
      "cell_type": "markdown",
      "source": [
        "Take 2 numbers as user input and add, multiply, divide, subtract, remainder and print\n",
        "the output "
      ],
      "metadata": {
        "id": "JgbTXeAdgoJb"
      }
    },
    {
      "cell_type": "code",
      "execution_count": null,
      "metadata": {
        "id": "-_e0td6YQs12",
        "colab": {
          "base_uri": "https://localhost:8080/"
        },
        "outputId": "851c50cd-1031-41d0-f7f8-cd727621ae24"
      },
      "outputs": [
        {
          "output_type": "stream",
          "name": "stdout",
          "text": [
            "enter a number20\n",
            "enter a number10\n",
            "30\n",
            "10\n",
            "200\n",
            "2.0\n",
            "0\n",
            "<class 'int'>\n"
          ]
        }
      ],
      "source": [
        "a=int(input(\"enter a number\"))\n",
        "b=int(input(\"enter a number\"))\n",
        "sum=a+b\n",
        "print(sum)\n",
        "subt=a-b\n",
        "print(subt)\n",
        "multi=a*b\n",
        "print(multi)\n",
        "div=a/b\n",
        "print(div)\n",
        "rem=a%b\n",
        "print(rem)\n",
        "print(type(a))"
      ]
    },
    {
      "cell_type": "markdown",
      "source": [
        "Same operations on floating point input as well"
      ],
      "metadata": {
        "id": "kOdiXZAYg2k5"
      }
    },
    {
      "cell_type": "code",
      "source": [
        "a=20.5\n",
        "b=10.1\n",
        "sum=a+b\n",
        "print(sum)\n",
        "subt=a-b\n",
        "print(subt)\n",
        "multi=a*b\n",
        "print(multi)\n",
        "div=a/b\n",
        "print(div)\n",
        "rem=a%b\n",
        "print(rem)\n",
        "print(type(a))"
      ],
      "metadata": {
        "colab": {
          "base_uri": "https://localhost:8080/"
        },
        "id": "waaL9DtNVoaL",
        "outputId": "0a1a3c60-e06f-456a-9cd2-1419fc0126a8"
      },
      "execution_count": null,
      "outputs": [
        {
          "output_type": "stream",
          "name": "stdout",
          "text": [
            "30.6\n",
            "10.4\n",
            "207.04999999999998\n",
            "2.0297029702970297\n",
            "0.3000000000000007\n",
            "<class 'float'>\n"
          ]
        }
      ]
    },
    {
      "cell_type": "markdown",
      "source": [
        "Conversion of one unit to another"
      ],
      "metadata": {
        "id": "alv9Ve2kCdKO"
      }
    },
    {
      "cell_type": "code",
      "source": [
        "kilometers = float(input(\"Enter value in kilometers: \"))\n",
        "conv_fac = 0.621371\n",
        "miles = kilometers * conv_fac\n",
        "print('%0.2f kilometers is equal to %0.2f miles' %(kilometers,miles))"
      ],
      "metadata": {
        "colab": {
          "base_uri": "https://localhost:8080/"
        },
        "id": "Q0cX7bvUCfWZ",
        "outputId": "647cf0eb-824a-4d56-f79e-c5d44b88badf"
      },
      "execution_count": 2,
      "outputs": [
        {
          "output_type": "stream",
          "name": "stdout",
          "text": [
            "Enter value in kilometers: 4\n",
            "4.00 kilometers is equal to 2.49 miles\n"
          ]
        }
      ]
    },
    {
      "cell_type": "markdown",
      "source": [
        "Usage of mathematical functions in python like math.ceil, floor, fabs, fmod, trunc,\n",
        "pow, sqrt etc."
      ],
      "metadata": {
        "id": "xDhn6gBSHGSR"
      }
    },
    {
      "cell_type": "code",
      "source": [
        "import math\n",
        "my_int=4.5678\n",
        "print(math.ceil(my_int))\n",
        "my_int=4.5678\n",
        "print(math.floor(my_int))\n",
        "my_int=4.5678\n",
        "print(math.fabs(my_int))\n",
        "print(math.fmod(4.5678, 7.8976))\n",
        "my_int=4.5678\n",
        "print(math.trunc(my_int))\n",
        "print(math.pow(4.5678, 7.8976))\n",
        "my_int=4.5678\n",
        "print(math.sqrt(my_int))"
      ],
      "metadata": {
        "colab": {
          "base_uri": "https://localhost:8080/"
        },
        "id": "bashqNsfHWU4",
        "outputId": "c50c8237-419e-425a-d925-4d963004378d"
      },
      "execution_count": 12,
      "outputs": [
        {
          "output_type": "stream",
          "name": "stdout",
          "text": [
            "5\n",
            "4\n",
            "4.5678\n",
            "4.5678\n",
            "4\n",
            "162219.3423504213\n",
            "2.1372412124044398\n"
          ]
        }
      ]
    },
    {
      "cell_type": "markdown",
      "source": [
        "Building a mathematical calculator that can perform operations according to user input.\n",
        "Use decision making statement."
      ],
      "metadata": {
        "id": "kNzz-1LdCyrL"
      }
    },
    {
      "cell_type": "code",
      "source": [
        "a=float (input (\"enter number \"))\n",
        "b=float (input (\"enter a number \"))\n",
        "i=input(\"enter operation\")\n",
        "if i==\"+\":\n",
        "  print (a+b)\n",
        "elif i==\"-\":\n",
        " print(a-b)\n",
        "elif i==\"%\":\n",
        " print (axb)\n",
        "elif i==\"*\":\n",
        " print (a*b)\n",
        "else:\n",
        " print(a/b)"
      ],
      "metadata": {
        "colab": {
          "base_uri": "https://localhost:8080/"
        },
        "id": "PQD0MluWK3xD",
        "outputId": "3de71553-dafd-4429-a4e1-06894604cc73"
      },
      "execution_count": 27,
      "outputs": [
        {
          "output_type": "stream",
          "name": "stdout",
          "text": [
            "enter number 10.4\n",
            "enter a number 20.8\n",
            "enter operation+\n",
            "31.200000000000003\n"
          ]
        }
      ]
    },
    {
      "cell_type": "markdown",
      "source": [
        "Accepting 5 different subject marks from user and displaying the grade of the student"
      ],
      "metadata": {
        "id": "wBAL_AnDfT7k"
      }
    },
    {
      "cell_type": "code",
      "source": [
        "a=int(input(\"enter 1st subject marks\"))\n",
        "b=int(input(\"enter 2nd subject marks\"))\n",
        "c=int(input(\"enter 3rd subject marks\"))\n",
        "d=int(input(\"enter 4th subject marks\"))\n",
        "e=int(input(\"enter 5th subject marks\"))\n",
        "f=(a+b+c+d+e)/5\n",
        "if f>90:\n",
        " print(\"grade A\")\n",
        "elif f>80 and f<90:\n",
        "  print(\"grade B\")\n",
        "elif f>70 and f<80:\n",
        "  print(\"grade C\")\n",
        "elif f<70:\n",
        "  print(\"grade D\")"
      ],
      "metadata": {
        "colab": {
          "base_uri": "https://localhost:8080/"
        },
        "id": "YJOVpLMlfVO8",
        "outputId": "d56e2a38-128b-4783-b967-de82b9be073e"
      },
      "execution_count": null,
      "outputs": [
        {
          "output_type": "stream",
          "name": "stdout",
          "text": [
            "enter 1st subject marks100\n",
            "enter 2nd subject marks99\n",
            "enter 3rd subject marks90\n",
            "enter 4th subject marks93\n",
            "enter 5th subject marks100\n",
            "grade A\n"
          ]
        }
      ]
    },
    {
      "cell_type": "markdown",
      "source": [
        "Printing all even numbers, odd numbers, count of even numbers, count of odd numbers\n",
        "within a given range."
      ],
      "metadata": {
        "id": "XmlQ0E57MYe8"
      }
    },
    {
      "cell_type": "code",
      "source": [
        "n=int(input (\"enter range \"))\n",
        "c=0\n",
        "for i in range(1,n+1):\n",
        " if i%2==0: \n",
        "   c+=1\n",
        "   print(i)\n",
        "\n",
        "print(\"even count is \",c)\n",
        "\n",
        "d=0\n",
        "for i in range (1,n+1): \n",
        "  if i%2!=0:\n",
        "    d+=1\n",
        "  print(i)\n",
        "\n",
        "print(\"odd count is \",d)"
      ],
      "metadata": {
        "colab": {
          "base_uri": "https://localhost:8080/"
        },
        "id": "1oNe-8GSMadC",
        "outputId": "ca0867df-f9b8-41f5-9852-b62474e0f220"
      },
      "execution_count": 33,
      "outputs": [
        {
          "output_type": "stream",
          "name": "stdout",
          "text": [
            "enter range 30\n",
            "2\n",
            "4\n",
            "6\n",
            "8\n",
            "10\n",
            "12\n",
            "14\n",
            "16\n",
            "18\n",
            "20\n",
            "22\n",
            "24\n",
            "26\n",
            "28\n",
            "30\n",
            "even count is  15\n",
            "1\n",
            "2\n",
            "3\n",
            "4\n",
            "5\n",
            "6\n",
            "7\n",
            "8\n",
            "9\n",
            "10\n",
            "11\n",
            "12\n",
            "13\n",
            "14\n",
            "15\n",
            "16\n",
            "17\n",
            "18\n",
            "19\n",
            "20\n",
            "21\n",
            "22\n",
            "23\n",
            "24\n",
            "25\n",
            "26\n",
            "27\n",
            "28\n",
            "29\n",
            "30\n",
            "odd count is  15\n"
          ]
        }
      ]
    },
    {
      "cell_type": "markdown",
      "source": [
        "Compute the factorial of a given number"
      ],
      "metadata": {
        "id": "OJRxiScoQe9m"
      }
    },
    {
      "cell_type": "code",
      "source": [
        "n=int(input(\"Enter a number\"))\n",
        "fac=1\n",
        "for i in range(1,n+1):\n",
        "   fac=fac*i\n",
        "\n",
        "print(fac)"
      ],
      "metadata": {
        "colab": {
          "base_uri": "https://localhost:8080/"
        },
        "id": "4ktU8avAQkl0",
        "outputId": "b8115b95-d96a-4712-ef11-8a5d3916a15e"
      },
      "execution_count": 39,
      "outputs": [
        {
          "output_type": "stream",
          "name": "stdout",
          "text": [
            "Enter a number5\n",
            "120\n"
          ]
        }
      ]
    },
    {
      "cell_type": "markdown",
      "source": [
        "Compute GCD of two given\n",
        "numbers."
      ],
      "metadata": {
        "id": "uEHgmNEhRlf7"
      }
    },
    {
      "cell_type": "code",
      "source": [
        "a=int(input(\"Enter a number\"))\n",
        "b=int(input(\"Enter a number\"))\n",
        "k=a if a<b else b\n",
        "while True:\n",
        "   if a%k==0 and b%k==0:\n",
        "      break\n",
        "      k+=1\n",
        "print(k)"
      ],
      "metadata": {
        "colab": {
          "base_uri": "https://localhost:8080/"
        },
        "id": "6P97mgQ3RnZi",
        "outputId": "2e72d090-2707-45f0-94ee-89aefc5e6d2f"
      },
      "execution_count": 51,
      "outputs": [
        {
          "output_type": "stream",
          "name": "stdout",
          "text": [
            "Enter a number60\n",
            "Enter a number20\n",
            "20\n"
          ]
        }
      ]
    },
    {
      "cell_type": "markdown",
      "source": [
        "Generate Fibonacci series up to N numbers"
      ],
      "metadata": {
        "id": "RCoJXBj5Tl6C"
      }
    },
    {
      "cell_type": "code",
      "source": [
        "num=int(input(\"Enter a number\"))\n",
        "n1,n2=0,1\n",
        "print(\"Fibonacci series:\",n1,n2,end=\" \")\n",
        "for i in range(2,num):\n",
        "   n3=n1+n2\n",
        "   n1=n2\n",
        "   n2=n3\n",
        "   print(n3,end=\" \")"
      ],
      "metadata": {
        "colab": {
          "base_uri": "https://localhost:8080/"
        },
        "id": "s2hKzibeTs_M",
        "outputId": "9276c4e4-0aee-4a0f-8daf-a807789b22cd"
      },
      "execution_count": 49,
      "outputs": [
        {
          "output_type": "stream",
          "name": "stdout",
          "text": [
            "Enter a number21\n",
            "Fibonacci series: 0 1 1 2 3 5 8 13 21 34 55 89 144 233 377 610 987 1597 2584 4181 6765 "
          ]
        }
      ]
    },
    {
      "cell_type": "markdown",
      "source": [
        "Check whether the given input is\n",
        " \n",
        " a) palindrome\n"
      ],
      "metadata": {
        "id": "zJihFQKLVTPb"
      }
    },
    {
      "cell_type": "markdown",
      "source": [
        "c)perfect"
      ],
      "metadata": {
        "id": "Ewet9Aj_aU3f"
      }
    },
    {
      "cell_type": "code",
      "source": [
        "num=int(input(\"Enter the number: \"))  \n",
        "sum_v=0  \n",
        "for i in range(1,num):  \n",
        "    if (num%i==0):  \n",
        "        sum_v=sum_v+i  \n",
        "if(sum_v==num):  \n",
        "    print(\"The entered number is a perfect number\")  \n",
        "else:  \n",
        "    print(\"The entered number is not a perfect number\")  "
      ],
      "metadata": {
        "colab": {
          "base_uri": "https://localhost:8080/"
        },
        "id": "jn35IizKaEcR",
        "outputId": "dd17f8cc-338a-4f5f-b9c5-aeeb6bd2cf46"
      },
      "execution_count": 53,
      "outputs": [
        {
          "output_type": "stream",
          "name": "stdout",
          "text": [
            "Enter the number: 6\n",
            "The entered number is a perfect number\n"
          ]
        }
      ]
    },
    {
      "cell_type": "markdown",
      "source": [
        "Compute compound interest using loop for a certain principal and interest amount"
      ],
      "metadata": {
        "id": "ylmX4bsVY38z"
      }
    },
    {
      "cell_type": "code",
      "source": [
        "n=int(input(\"Enter the principle amount:\"))\n",
        "rate=int(input(\"Enter the rate:\"))\n",
        "years=int(input(\"Enter the number of years:\"))\n",
        "for i in range(years):\n",
        "    n=n+((n*rate)/100)\n",
        "print(n)"
      ],
      "metadata": {
        "colab": {
          "base_uri": "https://localhost:8080/"
        },
        "id": "-IVH0s1sVUQf",
        "outputId": "be8db0a5-adc5-47d8-8bc6-0d0266fcf293"
      },
      "execution_count": 57,
      "outputs": [
        {
          "output_type": "stream",
          "name": "stdout",
          "text": [
            "Enter the principle amount:1000\n",
            "Enter the rate:20\n",
            "Enter the number of years:3\n",
            "1728.0\n"
          ]
        }
      ]
    }
  ]
}