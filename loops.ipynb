{
  "nbformat": 4,
  "nbformat_minor": 0,
  "metadata": {
    "colab": {
      "name": "loops",
      "provenance": [],
      "authorship_tag": "ABX9TyPs4gCmIz5N6F5Sz88AnBpL",
      "include_colab_link": true
    },
    "kernelspec": {
      "name": "python3",
      "display_name": "Python 3"
    },
    "language_info": {
      "name": "python"
    }
  },
  "cells": [
    {
      "cell_type": "markdown",
      "metadata": {
        "id": "view-in-github",
        "colab_type": "text"
      },
      "source": [
        "<a href=\"https://colab.research.google.com/github/VU21CSEN0100410/DEEPIKA/blob/main/loops.ipynb\" target=\"_parent\"><img src=\"https://colab.research.google.com/assets/colab-badge.svg\" alt=\"Open In Colab\"/></a>"
      ]
    },
    {
      "cell_type": "markdown",
      "source": [
        "LISTS"
      ],
      "metadata": {
        "id": "OIuQJ4e72t5E"
      }
    },
    {
      "cell_type": "code",
      "execution_count": 15,
      "metadata": {
        "colab": {
          "base_uri": "https://localhost:8080/"
        },
        "id": "DBVHnFAxywQU",
        "outputId": "9d8c8f11-9c92-4bf5-d38f-3daf9d13b578"
      },
      "outputs": [
        {
          "output_type": "stream",
          "name": "stdout",
          "text": [
            "roti\n",
            "chapathi\n",
            "idly\n",
            "dosa\n",
            "roti\n",
            "chapathi\n",
            "idly\n",
            "dosa\n",
            "roti\n",
            "chapathi\n",
            "idly\n",
            "dosa\n",
            "roti\n",
            "chapathi\n",
            "idly\n",
            "dosa\n"
          ]
        },
        {
          "output_type": "execute_result",
          "data": {
            "text/plain": [
              "[None, None, None, None]"
            ]
          },
          "metadata": {},
          "execution_count": 15
        }
      ],
      "source": [
        "#loop through a list\n",
        "a=[\"roti\",\"chapathi\",\"idly\",\"dosa\"]\n",
        "for x in a:\n",
        "  print(x)\n",
        "#Loop Through the Index Numbers\n",
        "a=[\"roti\",\"chapathi\",\"idly\",\"dosa\"]\n",
        "for i in range(len(a)):\n",
        "    print(a[i])\n",
        "#Using a While Loop\n",
        "a=[\"roti\",\"chapathi\",\"idly\",\"dosa\"]\n",
        "i = 0\n",
        "while i < len(a):\n",
        "  print(a[i])\n",
        "  i = i + 1\n",
        "#Looping Using List Comprehension\n",
        "a=[\"roti\",\"chapathi\",\"idly\",\"dosa\"]\n",
        "[print(x) for x in a]"
      ]
    },
    {
      "cell_type": "markdown",
      "source": [
        "TUPLES"
      ],
      "metadata": {
        "id": "QEsDpNBc7K89"
      }
    },
    {
      "cell_type": "code",
      "source": [
        "#Loop Through a Tuple\n",
        "Chocolate=(\"kitkat\",\"dairy milk\",\"snickers\",\"perk\")\n",
        "for x in Chocolate:\n",
        "  print(x)\n",
        "\n",
        "#Loop Through the Index Numbers\n",
        "Chocolate=(\"kitkat\",\"dairy milk\",\"snickers\",\"perk\")\n",
        "for i in range(len(a)):\n",
        "    print(a[i])\n",
        "\n",
        "#Using a While Loop\n",
        "Chocolate=(\"kitkat\",\"dairy milk\",\"snickers\",\"perk\")\n",
        "i = 0\n",
        "while i < len(a):\n",
        "  print(a[i])\n",
        "  i = i + 1\n"
      ],
      "metadata": {
        "colab": {
          "base_uri": "https://localhost:8080/"
        },
        "id": "0-A9BsXG7NsS",
        "outputId": "618c0c3d-123f-4447-ed12-75d7df701030"
      },
      "execution_count": 23,
      "outputs": [
        {
          "output_type": "stream",
          "name": "stdout",
          "text": [
            "kitkat\n",
            "dairy milk\n",
            "snickers\n",
            "perk\n",
            "roti\n",
            "chapathi\n",
            "idly\n",
            "dosa\n",
            "roti\n",
            "chapathi\n",
            "idly\n",
            "dosa\n"
          ]
        }
      ]
    },
    {
      "cell_type": "markdown",
      "source": [
        "SETS"
      ],
      "metadata": {
        "id": "nf6WLhVT_wd7"
      }
    },
    {
      "cell_type": "code",
      "source": [
        "#Loop Items\n",
        "program={\"c\",\"python\",\"java\",\"c++\"}\n",
        "for x in Chocolate:\n",
        "  print(x)\n",
        "#Loop Through the Index Numbers\n",
        "program={\"c\",\"python\",\"java\",\"c++\"}\n",
        "for i in range(len(a)):\n",
        "    print(a[i])\n",
        "#Using a While Loop\n",
        "program={\"c\",\"python\",\"java\",\"c++\"}\n",
        "i = 0\n",
        "while i < len(a):\n",
        "  print(a[i])\n",
        "  i = i + 1"
      ],
      "metadata": {
        "colab": {
          "base_uri": "https://localhost:8080/"
        },
        "id": "zvMo_6FP_7sR",
        "outputId": "d6122b61-75a9-4eef-c47b-7504aa0da7bc"
      },
      "execution_count": 26,
      "outputs": [
        {
          "output_type": "stream",
          "name": "stdout",
          "text": [
            "kitkat\n",
            "dairy milk\n",
            "snickers\n",
            "perk\n",
            "roti\n",
            "chapathi\n",
            "idly\n",
            "dosa\n",
            "roti\n",
            "chapathi\n",
            "idly\n",
            "dosa\n"
          ]
        }
      ]
    },
    {
      "cell_type": "markdown",
      "source": [
        "Dictionaries"
      ],
      "metadata": {
        "id": "ixk4h12eBZAE"
      }
    },
    {
      "cell_type": "code",
      "source": [
        "#Loop Through a Dictionary\n",
        "a={\n",
        "    \"name\": \"jacksparrow\",\n",
        "    \"age\": \"58\",\n",
        "    \"gender\":\"male\",\n",
        "}\n",
        "for x in a:\n",
        "  print(x)"
      ],
      "metadata": {
        "colab": {
          "base_uri": "https://localhost:8080/"
        },
        "id": "gT7uEr1CBdOr",
        "outputId": "66861b9e-b0d2-484d-d5bb-e5e299fcbb88"
      },
      "execution_count": 27,
      "outputs": [
        {
          "output_type": "stream",
          "name": "stdout",
          "text": [
            "name\n",
            "age\n",
            "gender\n"
          ]
        }
      ]
    }
  ]
}