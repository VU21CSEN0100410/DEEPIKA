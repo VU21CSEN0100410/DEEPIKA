{
  "cells": [
    {
      "cell_type": "markdown",
      "metadata": {
        "id": "view-in-github",
        "colab_type": "text"
      },
      "source": [
        "<a href=\"https://colab.research.google.com/github/VU21CSEN0100410/DEEPIKA/blob/main/python_0410.ipynb\" target=\"_parent\"><img src=\"https://colab.research.google.com/assets/colab-badge.svg\" alt=\"Open In Colab\"/></a>"
      ]
    },
    {
      "cell_type": "markdown",
      "id": "3742ffd8",
      "metadata": {
        "id": "3742ffd8"
      },
      "source": [
        "## AVERAGE OF THREE NUMBERS"
      ]
    },
    {
      "cell_type": "code",
      "execution_count": null,
      "id": "662d2892",
      "metadata": {
        "id": "662d2892",
        "outputId": "c6072cec-20d5-426f-d8c1-c0a4dece8ef6"
      },
      "outputs": [
        {
          "name": "stdout",
          "output_type": "stream",
          "text": [
            "20.0\n",
            "<class 'float'>\n"
          ]
        }
      ],
      "source": [
        "a=10\n",
        "b=20\n",
        "c=30\n",
        "average=(a+b+c)/3\n",
        "print(average)\n",
        "print(type(average))"
      ]
    },
    {
      "cell_type": "markdown",
      "id": "4570e5e4",
      "metadata": {
        "id": "4570e5e4"
      },
      "source": [
        "## multiplication of three numbers"
      ]
    },
    {
      "cell_type": "code",
      "execution_count": null,
      "id": "be56d0ca",
      "metadata": {
        "id": "be56d0ca",
        "outputId": "43703c9f-7405-4978-c36f-7e035f2eb2ff"
      },
      "outputs": [
        {
          "name": "stdout",
          "output_type": "stream",
          "text": [
            "6000\n",
            "<class 'int'>\n"
          ]
        }
      ],
      "source": [
        "a=10\n",
        "b=20\n",
        "c=30\n",
        "multi=(a*b*c)\n",
        "print(multi)\n",
        "print(type(multi))"
      ]
    },
    {
      "cell_type": "markdown",
      "id": "3472ed58",
      "metadata": {
        "id": "3472ed58"
      },
      "source": [
        "## dynamic addition"
      ]
    },
    {
      "cell_type": "code",
      "execution_count": null,
      "id": "e74b25b5",
      "metadata": {
        "id": "e74b25b5",
        "outputId": "f7aadfa3-d0ec-4b83-eef4-af07a15f8893"
      },
      "outputs": [
        {
          "name": "stdout",
          "output_type": "stream",
          "text": [
            "enter a number:20\n",
            "enter a number:10\n",
            "30\n",
            "<class 'type'>\n"
          ]
        }
      ],
      "source": [
        "a=int(input(\"enter a number:\"))\n",
        "b=int(input(\"enter a number:\"))\n",
        "add=(a+b)\n",
        "print(add)\n",
        "print(type)"
      ]
    },
    {
      "cell_type": "markdown",
      "id": "ca3a4674",
      "metadata": {
        "id": "ca3a4674"
      },
      "source": [
        "##  dynamic multiplication"
      ]
    },
    {
      "cell_type": "code",
      "execution_count": null,
      "id": "90856f78",
      "metadata": {
        "id": "90856f78",
        "outputId": "d936cfa2-08f4-4767-fcdd-998e20a7b045"
      },
      "outputs": [
        {
          "name": "stdout",
          "output_type": "stream",
          "text": [
            "enter a number:10\n",
            "enter a number:20\n",
            "200\n",
            "<class 'type'>\n"
          ]
        }
      ],
      "source": [
        "a=int(input(\"enter a number:\"))\n",
        "b=int(input(\"enter a number:\"))\n",
        "C=(a*b)\n",
        "print(C)\n",
        "print(type)"
      ]
    },
    {
      "cell_type": "markdown",
      "id": "08c6c559",
      "metadata": {
        "id": "08c6c559"
      },
      "source": [
        "## CONVERSION\n",
        "## convert int to float"
      ]
    },
    {
      "cell_type": "code",
      "execution_count": null,
      "id": "c9974718",
      "metadata": {
        "id": "c9974718",
        "outputId": "79eff0ca-b392-4702-da3b-2e3b255d9c85"
      },
      "outputs": [
        {
          "name": "stdout",
          "output_type": "stream",
          "text": [
            "<class 'int'>\n",
            "<class 'float'>\n"
          ]
        }
      ],
      "source": [
        "a=10\n",
        "print(type(a))\n",
        "b=float(a)\n",
        "print(type(b))"
      ]
    },
    {
      "cell_type": "markdown",
      "id": "f3ba1ca8",
      "metadata": {
        "id": "f3ba1ca8"
      },
      "source": [
        "## convert float to int"
      ]
    },
    {
      "cell_type": "code",
      "execution_count": null,
      "id": "c382c3d3",
      "metadata": {
        "id": "c382c3d3",
        "outputId": "e020f282-9ec1-48b1-d9d2-60cf5aa79a8d"
      },
      "outputs": [
        {
          "name": "stdout",
          "output_type": "stream",
          "text": [
            "<class 'float'>\n",
            "<class 'int'>\n",
            "20\n"
          ]
        }
      ],
      "source": [
        "a=20.2\n",
        "b=int(a)\n",
        "print(type(a))\n",
        "print(type(b))\n",
        "print(b)"
      ]
    },
    {
      "cell_type": "markdown",
      "id": "f05d9aff",
      "metadata": {
        "id": "f05d9aff"
      },
      "source": [
        "## convert float to string"
      ]
    },
    {
      "cell_type": "code",
      "execution_count": null,
      "id": "313518bc",
      "metadata": {
        "id": "313518bc",
        "outputId": "3e7664c3-9cea-45e7-a715-8723b0701ab0"
      },
      "outputs": [
        {
          "name": "stdout",
          "output_type": "stream",
          "text": [
            "<class 'float'>\n",
            "<class 'str'>\n",
            "20\n"
          ]
        }
      ],
      "source": [
        "a=10.8\n",
        "b=str(b)\n",
        "print(type(a))\n",
        "print(type(b))\n",
        "print(b)"
      ]
    },
    {
      "cell_type": "markdown",
      "id": "92dd3d08",
      "metadata": {
        "id": "92dd3d08"
      },
      "source": [
        "## convert string to int (not possible if values given in alphabets)"
      ]
    },
    {
      "cell_type": "code",
      "execution_count": null,
      "id": "5b339ed4",
      "metadata": {
        "id": "5b339ed4",
        "outputId": "2fc8ba45-50ad-4599-ba9a-5a89745b811f"
      },
      "outputs": [
        {
          "name": "stdout",
          "output_type": "stream",
          "text": [
            "<class 'str'>\n",
            "<class 'int'>\n",
            "9\n"
          ]
        }
      ],
      "source": [
        "a=\"9\"\n",
        "b=int(a)\n",
        "print(type(a))\n",
        "print(type(b))\n",
        "print(b)"
      ]
    },
    {
      "cell_type": "markdown",
      "id": "a32cb2dd",
      "metadata": {
        "id": "a32cb2dd"
      },
      "source": [
        "## convert int to string"
      ]
    },
    {
      "cell_type": "code",
      "execution_count": null,
      "id": "8e7b6827",
      "metadata": {
        "id": "8e7b6827",
        "outputId": "7726db3a-05d6-4661-e3dc-4bba60bfe42e"
      },
      "outputs": [
        {
          "name": "stdout",
          "output_type": "stream",
          "text": [
            "<class 'int'>\n",
            "<class 'str'>\n",
            "30\n"
          ]
        }
      ],
      "source": [
        "a=30\n",
        "b=str(a)\n",
        "print(type(a))\n",
        "print(type(b))\n",
        "print(b)"
      ]
    },
    {
      "cell_type": "markdown",
      "id": "ad3ab155",
      "metadata": {
        "id": "ad3ab155"
      },
      "source": [
        "## BOOLEAN"
      ]
    },
    {
      "cell_type": "code",
      "execution_count": null,
      "id": "42ac8a43",
      "metadata": {
        "id": "42ac8a43",
        "outputId": "f0c55e0c-2dfc-4fcc-8d58-04666c896225"
      },
      "outputs": [
        {
          "name": "stdout",
          "output_type": "stream",
          "text": [
            "True\n",
            "<class 'bool'>\n"
          ]
        }
      ],
      "source": [
        "a=1\n",
        "b=0\n",
        "c=a>b\n",
        "print(c)\n",
        "print(type(c))"
      ]
    },
    {
      "cell_type": "markdown",
      "id": "365b213a",
      "metadata": {
        "id": "365b213a"
      },
      "source": [
        "##  boolean into int"
      ]
    },
    {
      "cell_type": "code",
      "execution_count": null,
      "id": "36b483ab",
      "metadata": {
        "id": "36b483ab",
        "outputId": "2550a425-390b-4e15-f9ce-d01176b695ab"
      },
      "outputs": [
        {
          "name": "stdout",
          "output_type": "stream",
          "text": [
            "<class 'bool'>\n",
            "True\n",
            "<class 'int'>\n",
            "True\n"
          ]
        }
      ],
      "source": [
        "a=bool(10)\n",
        "print(type(a))\n",
        "print(bool(a))\n",
        "b=int(10)\n",
        "print(type(b))\n",
        "print(bool(b))"
      ]
    },
    {
      "cell_type": "markdown",
      "id": "549ec8ce",
      "metadata": {
        "id": "549ec8ce"
      },
      "source": [
        "## boolean into float"
      ]
    },
    {
      "cell_type": "code",
      "execution_count": null,
      "id": "337c2358",
      "metadata": {
        "id": "337c2358",
        "outputId": "f4c33270-65f9-4b21-9e4a-fb2c06933118"
      },
      "outputs": [
        {
          "name": "stdout",
          "output_type": "stream",
          "text": [
            "<class 'bool'>\n",
            "True\n",
            "<class 'float'>\n",
            "False\n"
          ]
        }
      ],
      "source": [
        "a=bool(10)\n",
        "print(type(a))\n",
        "print(bool(a))\n",
        "b=float(0)\n",
        "print(type(b))\n",
        "print(bool(b))"
      ]
    },
    {
      "cell_type": "markdown",
      "id": "c03f7b3a",
      "metadata": {
        "id": "c03f7b3a"
      },
      "source": [
        "## boolean to string"
      ]
    },
    {
      "cell_type": "code",
      "execution_count": null,
      "id": "19ae7b4c",
      "metadata": {
        "id": "19ae7b4c",
        "outputId": "70b0b6c2-f6eb-47c6-894f-1d094ee3ebcc"
      },
      "outputs": [
        {
          "name": "stdout",
          "output_type": "stream",
          "text": [
            "<class 'bool'>\n",
            "True\n",
            "<class 'str'>\n",
            "True\n"
          ]
        }
      ],
      "source": [
        "a=bool(1)\n",
        "print(type(a))\n",
        "print(bool(a))\n",
        "b=str(\"1\")\n",
        "print(type(b))\n",
        "print(bool(b))"
      ]
    },
    {
      "cell_type": "code",
      "execution_count": null,
      "id": "ad48ad7b",
      "metadata": {
        "id": "ad48ad7b"
      },
      "outputs": [],
      "source": [
        ""
      ]
    }
  ],
  "metadata": {
    "kernelspec": {
      "display_name": "Python 3 (ipykernel)",
      "language": "python",
      "name": "python3"
    },
    "language_info": {
      "codemirror_mode": {
        "name": "ipython",
        "version": 3
      },
      "file_extension": ".py",
      "mimetype": "text/x-python",
      "name": "python",
      "nbconvert_exporter": "python",
      "pygments_lexer": "ipython3",
      "version": "3.9.7"
    },
    "colab": {
      "name": "python 0410.ipynb",
      "provenance": [],
      "include_colab_link": true
    }
  },
  "nbformat": 4,
  "nbformat_minor": 5
}